{
  "nbformat": 4,
  "nbformat_minor": 0,
  "metadata": {
    "kernelspec": {
      "display_name": "Python 3",
      "language": "python",
      "name": "python3"
    },
    "language_info": {
      "codemirror_mode": {
        "name": "ipython",
        "version": 3
      },
      "file_extension": ".py",
      "mimetype": "text/x-python",
      "name": "python",
      "nbconvert_exporter": "python",
      "pygments_lexer": "ipython3",
      "version": "3.7.5"
    },
    "colab": {
      "name": "tp4_2_jazzimprovisation.ipynb",
      "provenance": [],
      "collapsed_sections": [],
      "toc_visible": true
    }
  },
  "cells": [
    {
      "cell_type": "markdown",
      "metadata": {
        "id": "j-pA5v4k0i4-"
      },
      "source": [
        "# TP 4: Neural networks (2)"
      ]
    },
    {
      "cell_type": "markdown",
      "metadata": {
        "id": "1ICarjnzKwDo"
      },
      "source": [
        "## KALMOGO Benjamin"
      ]
    },
    {
      "cell_type": "markdown",
      "metadata": {
        "id": "zG81sD1A0i5I"
      },
      "source": [
        "## 2. Jazz improvisation with recurrent neural networks"
      ]
    },
    {
      "cell_type": "markdown",
      "metadata": {
        "id": "mrLNCmY00i5J"
      },
      "source": [
        "In this exercise, we will train a recurrent neural network in order to generate jazz music. Our network is trained on an existing jazz melody, and it learns to predict the next note based on the history of notes. Once the network is trained, we can use it to generate a new sequence of notes to in order to generate a piece of music.\n",
        "\n",
        "Note: for this exercise you will need to install one extra module for music processing, called $music21$. You can install this module using $pip$, either within the Jupyter notebook or on the Acaconda prompt."
      ]
    },
    {
      "cell_type": "code",
      "metadata": {
        "colab": {
          "base_uri": "https://localhost:8080/"
        },
        "id": "5td5zJRN0i5K",
        "outputId": "ee60513e-9913-4bd0-d620-811b2fa45cce"
      },
      "source": [
        "!pip install music21"
      ],
      "execution_count": 90,
      "outputs": [
        {
          "output_type": "stream",
          "text": [
            "Requirement already satisfied: music21 in /usr/local/lib/python3.7/dist-packages (5.5.0)\n"
          ],
          "name": "stdout"
        }
      ]
    },
    {
      "cell_type": "markdown",
      "metadata": {
        "id": "DeiZVQ6d0i5L"
      },
      "source": [
        "Recurrent neural networks are perfectly suited for processing sequential information. In a traditional neural network we assume that all inputs (and outputs) are independent of each other, but this is not the case for  sequences. For example, in order to predict the next word in a sentence you need to know which words came before. RNNs are called recurrent because they perform the same task for every element of a sequence, producing an output based on the previous computations. Another way to think about RNNs is that they have a \"memory\" which captures information about what has been calculated so far. A graphical representation is given in the figure below. \n",
        "\n",
        "![Graphical representation of convolutional network](img/rnn.jpg)\n",
        "\n",
        "\n",
        "The picture on the left shows the neural network with recurrent connection; the picture on the right shows the same recurrent network, \"unrolled\" for three different timesteps. For music generation the process is as follows: at each timestep, the current note in a sequence is submitted to the neural network. This note is represented as a one-hot vector: say that we have a set of 7 notes, $[do, re, mi, fa, sol, la, ti]$. The one-hot vector representation of $mi$ would then be $[0 0 1 0 0 0 0]$, i.e. all-zero, except for the position of the correct note. The recurrent neural network combines the current note with the representation of the context history (the preceding notes) in order to construct a representation for the current timestep. The representation of the current timestep may then be used for the prediction of the note in the next timestep (which can then be submitted to the network again in order to repeat the process).\n",
        "\n",
        "Note that a number of more evolved recurrent architectures exist, such as long short term memory (LSTM) networks and gated recurrent unit (GRU) networks. These architectures allow us to more precisely model complex interactions between events that occur several timesteps apart."
      ]
    },
    {
      "cell_type": "markdown",
      "metadata": {
        "id": "kBzHgXnL0i5M"
      },
      "source": [
        "Let's see how we can implement such a recurrent neural network for jazz improvisation. First, we'll import a number of necessary modules and helper functions."
      ]
    },
    {
      "cell_type": "code",
      "metadata": {
        "id": "caD8R-Jw0i5N"
      },
      "source": [
        "from __future__ import print_function\n",
        "from music21 import *\n",
        "import numpy as np\n",
        "from data_utils import *"
      ],
      "execution_count": 91,
      "outputs": []
    },
    {
      "cell_type": "markdown",
      "metadata": {
        "id": "GvWKq0bZ0i5N"
      },
      "source": [
        "Next, we'll load the necessary data files. $X$ and $y$ represent our training data, the remaining files are used for music generation according to the predictions of the network."
      ]
    },
    {
      "cell_type": "code",
      "metadata": {
        "id": "RBMsZgKJ0i5O"
      },
      "source": [
        "(X, y, n_values, chords,\n",
        " abstract_grammars, corpus, tones, \n",
        " tones_indices, indices_tones) = load_music_data()"
      ],
      "execution_count": 92,
      "outputs": []
    },
    {
      "cell_type": "code",
      "metadata": {
        "colab": {
          "base_uri": "https://localhost:8080/"
        },
        "id": "hgU_A6Cn0i5O",
        "outputId": "d64848a2-499a-4faf-ed03-c878f2fb712a"
      },
      "source": [
        "n_train = X.shape[0]\n",
        "n_timesteps = X.shape[1]\n",
        "\n",
        "print('number of training examples:', n_train)\n",
        "print('Tx (length of sequence):', n_timesteps)\n",
        "print('total # of unique values:', n_values)"
      ],
      "execution_count": 93,
      "outputs": [
        {
          "output_type": "stream",
          "text": [
            "number of training examples: 58\n",
            "Tx (length of sequence): 20\n",
            "total # of unique values: 78\n"
          ],
          "name": "stdout"
        }
      ]
    },
    {
      "cell_type": "markdown",
      "metadata": {
        "id": "A6JF1--00i5P"
      },
      "source": [
        "Our data consists of 58 training examples. Each training example in $X$ is represented by a 20x78 matrix. This matrix represents a sequence of 20 notes, and each of the 20 notes can be one of 78 possibilities (represented as a one-hot vector).\n"
      ]
    },
    {
      "cell_type": "code",
      "metadata": {
        "colab": {
          "base_uri": "https://localhost:8080/"
        },
        "id": "hg93hUJw0i5P",
        "outputId": "1e5731c8-6b28-4fe2-bfa7-227f538a6ce4"
      },
      "source": [
        "print('shape of X:', X.shape)"
      ],
      "execution_count": 94,
      "outputs": [
        {
          "output_type": "stream",
          "text": [
            "shape of X: (58, 20, 78)\n"
          ],
          "name": "stdout"
        }
      ]
    },
    {
      "cell_type": "markdown",
      "metadata": {
        "id": "bGT-NRH70i5P"
      },
      "source": [
        "Each label in $y$ is a 78-valued one hot vector, representing the note that follows the 20 notes represented in X. The goal of the network is to predict the correct note in y given the 20 notes that precede it.\n"
      ]
    },
    {
      "cell_type": "code",
      "metadata": {
        "colab": {
          "base_uri": "https://localhost:8080/"
        },
        "id": "G7_vjKuH0i5Q",
        "outputId": "64255db0-21f1-4076-e3bd-3e7b862cba5f"
      },
      "source": [
        "print('Shape of Y:', y.shape)"
      ],
      "execution_count": 95,
      "outputs": [
        {
          "output_type": "stream",
          "text": [
            "Shape of Y: (58, 78)\n"
          ],
          "name": "stdout"
        }
      ]
    },
    {
      "cell_type": "markdown",
      "metadata": {
        "id": "_7eAQaxe0i5Q"
      },
      "source": [
        "We will predict the correct note using a recurrent neural network. The RNN processes the sequence of 20 notes, which results in a hidden representation of the sequence. The hidden representation is then propagated to a dense layer with softmax activation, resulting in a probability distribution over the 78 possibilities for the next note.\n"
      ]
    },
    {
      "cell_type": "code",
      "metadata": {
        "id": "hIZVFZCJ0i5R"
      },
      "source": [
        "model = keras.Sequential([\n",
        "keras.layers.GRU(100, input_shape=(n_timesteps, n_values)),\n",
        "keras.layers.Dense(256, activation = 'exponential'),\n",
        "keras.layers.Dense(32, activation = 'relu'),\n",
        "keras.layers.Dense(78, activation = 'softmax')\n",
        "])"
      ],
      "execution_count": 147,
      "outputs": []
    },
    {
      "cell_type": "code",
      "metadata": {
        "id": "YqcF5NIiHzoV"
      },
      "source": [
        ""
      ],
      "execution_count": 147,
      "outputs": []
    },
    {
      "cell_type": "code",
      "metadata": {
        "id": "vD9HRlSd69rn"
      },
      "source": [
        "#activation='tanh', recurrent_activation='sigmoid',"
      ],
      "execution_count": 148,
      "outputs": []
    },
    {
      "cell_type": "markdown",
      "metadata": {
        "id": "4UckHLvS0i5R"
      },
      "source": [
        "Once our model is defined, we compile it."
      ]
    },
    {
      "cell_type": "code",
      "metadata": {
        "id": "AfLttfGF0i5S"
      },
      "source": [
        "model.compile(loss='categorical_crossentropy', optimizer='adam')"
      ],
      "execution_count": 149,
      "outputs": []
    },
    {
      "cell_type": "markdown",
      "metadata": {
        "id": "E8YpHJyD0i5S"
      },
      "source": [
        " And finally, we fit it to our data."
      ]
    },
    {
      "cell_type": "code",
      "metadata": {
        "colab": {
          "base_uri": "https://localhost:8080/"
        },
        "id": "SGIUwtfn0i5S",
        "outputId": "54ac4418-2e0f-45ab-9f19-33e9fa3cff5b"
      },
      "source": [
        "model.fit(X, y, batch_size=10, epochs=100)"
      ],
      "execution_count": 150,
      "outputs": [
        {
          "output_type": "stream",
          "text": [
            "Epoch 1/100\n",
            "6/6 [==============================] - 2s 15ms/step - loss: 4.6846\n",
            "Epoch 2/100\n",
            "6/6 [==============================] - 0s 13ms/step - loss: 4.2670\n",
            "Epoch 3/100\n",
            "6/6 [==============================] - 0s 14ms/step - loss: 4.1298\n",
            "Epoch 4/100\n",
            "6/6 [==============================] - 0s 14ms/step - loss: 4.1827\n",
            "Epoch 5/100\n",
            "6/6 [==============================] - 0s 12ms/step - loss: 3.9968\n",
            "Epoch 6/100\n",
            "6/6 [==============================] - 0s 16ms/step - loss: 3.9387\n",
            "Epoch 7/100\n",
            "6/6 [==============================] - 0s 15ms/step - loss: 3.8249\n",
            "Epoch 8/100\n",
            "6/6 [==============================] - 0s 13ms/step - loss: 3.6999\n",
            "Epoch 9/100\n",
            "6/6 [==============================] - 0s 13ms/step - loss: 3.6098\n",
            "Epoch 10/100\n",
            "6/6 [==============================] - 0s 12ms/step - loss: 3.4166\n",
            "Epoch 11/100\n",
            "6/6 [==============================] - 0s 13ms/step - loss: 3.3365\n",
            "Epoch 12/100\n",
            "6/6 [==============================] - 0s 15ms/step - loss: 3.2261\n",
            "Epoch 13/100\n",
            "6/6 [==============================] - 0s 12ms/step - loss: 3.0398\n",
            "Epoch 14/100\n",
            "6/6 [==============================] - 0s 12ms/step - loss: 3.0656\n",
            "Epoch 15/100\n",
            "6/6 [==============================] - 0s 14ms/step - loss: 2.8349\n",
            "Epoch 16/100\n",
            "6/6 [==============================] - 0s 14ms/step - loss: 2.3983\n",
            "Epoch 17/100\n",
            "6/6 [==============================] - 0s 14ms/step - loss: 2.4529\n",
            "Epoch 18/100\n",
            "6/6 [==============================] - 0s 15ms/step - loss: 2.3284\n",
            "Epoch 19/100\n",
            "6/6 [==============================] - 0s 18ms/step - loss: 2.0860\n",
            "Epoch 20/100\n",
            "6/6 [==============================] - 0s 15ms/step - loss: 1.8673\n",
            "Epoch 21/100\n",
            "6/6 [==============================] - 0s 13ms/step - loss: 1.5059\n",
            "Epoch 22/100\n",
            "6/6 [==============================] - 0s 13ms/step - loss: 1.5858\n",
            "Epoch 23/100\n",
            "6/6 [==============================] - 0s 13ms/step - loss: 1.4555\n",
            "Epoch 24/100\n",
            "6/6 [==============================] - 0s 13ms/step - loss: 0.9972\n",
            "Epoch 25/100\n",
            "6/6 [==============================] - 0s 13ms/step - loss: 0.9198\n",
            "Epoch 26/100\n",
            "6/6 [==============================] - 0s 13ms/step - loss: 0.6702\n",
            "Epoch 27/100\n",
            "6/6 [==============================] - 0s 13ms/step - loss: 0.5694\n",
            "Epoch 28/100\n",
            "6/6 [==============================] - 0s 15ms/step - loss: 0.4587\n",
            "Epoch 29/100\n",
            "6/6 [==============================] - 0s 13ms/step - loss: 0.3407\n",
            "Epoch 30/100\n",
            "6/6 [==============================] - 0s 15ms/step - loss: 0.4823\n",
            "Epoch 31/100\n",
            "6/6 [==============================] - 0s 12ms/step - loss: 0.4037\n",
            "Epoch 32/100\n",
            "6/6 [==============================] - 0s 13ms/step - loss: 0.3277\n",
            "Epoch 33/100\n",
            "6/6 [==============================] - 0s 13ms/step - loss: 0.1721\n",
            "Epoch 34/100\n",
            "6/6 [==============================] - 0s 13ms/step - loss: 0.1600\n",
            "Epoch 35/100\n",
            "6/6 [==============================] - 0s 14ms/step - loss: 0.2624\n",
            "Epoch 36/100\n",
            "6/6 [==============================] - 0s 12ms/step - loss: 0.3848\n",
            "Epoch 37/100\n",
            "6/6 [==============================] - 0s 13ms/step - loss: 0.2457\n",
            "Epoch 38/100\n",
            "6/6 [==============================] - 0s 14ms/step - loss: 0.0812\n",
            "Epoch 39/100\n",
            "6/6 [==============================] - 0s 12ms/step - loss: 0.0907\n",
            "Epoch 40/100\n",
            "6/6 [==============================] - 0s 14ms/step - loss: 0.0495\n",
            "Epoch 41/100\n",
            "6/6 [==============================] - 0s 16ms/step - loss: 0.0505\n",
            "Epoch 42/100\n",
            "6/6 [==============================] - 0s 14ms/step - loss: 0.0268\n",
            "Epoch 43/100\n",
            "6/6 [==============================] - 0s 14ms/step - loss: 0.0072\n",
            "Epoch 44/100\n",
            "6/6 [==============================] - 0s 14ms/step - loss: 0.0034\n",
            "Epoch 45/100\n",
            "6/6 [==============================] - 0s 12ms/step - loss: 0.0028\n",
            "Epoch 46/100\n",
            "6/6 [==============================] - 0s 14ms/step - loss: 0.0027\n",
            "Epoch 47/100\n",
            "6/6 [==============================] - 0s 13ms/step - loss: 0.0025\n",
            "Epoch 48/100\n",
            "6/6 [==============================] - 0s 14ms/step - loss: 0.0019\n",
            "Epoch 49/100\n",
            "6/6 [==============================] - 0s 12ms/step - loss: 0.0013\n",
            "Epoch 50/100\n",
            "6/6 [==============================] - 0s 13ms/step - loss: 0.0014\n",
            "Epoch 51/100\n",
            "6/6 [==============================] - 0s 13ms/step - loss: 0.0013\n",
            "Epoch 52/100\n",
            "6/6 [==============================] - 0s 13ms/step - loss: 0.0012\n",
            "Epoch 53/100\n",
            "6/6 [==============================] - 0s 14ms/step - loss: 0.0011\n",
            "Epoch 54/100\n",
            "6/6 [==============================] - 0s 14ms/step - loss: 0.0012\n",
            "Epoch 55/100\n",
            "6/6 [==============================] - 0s 14ms/step - loss: 9.5904e-04\n",
            "Epoch 56/100\n",
            "6/6 [==============================] - 0s 14ms/step - loss: 9.0220e-04\n",
            "Epoch 57/100\n",
            "6/6 [==============================] - 0s 14ms/step - loss: 7.6663e-04\n",
            "Epoch 58/100\n",
            "6/6 [==============================] - 0s 12ms/step - loss: 7.1472e-04\n",
            "Epoch 59/100\n",
            "6/6 [==============================] - 0s 14ms/step - loss: 7.9560e-04\n",
            "Epoch 60/100\n",
            "6/6 [==============================] - 0s 14ms/step - loss: 7.4182e-04\n",
            "Epoch 61/100\n",
            "6/6 [==============================] - 0s 13ms/step - loss: 6.5870e-04\n",
            "Epoch 62/100\n",
            "6/6 [==============================] - 0s 14ms/step - loss: 6.6579e-04\n",
            "Epoch 63/100\n",
            "6/6 [==============================] - 0s 14ms/step - loss: 6.7149e-04\n",
            "Epoch 64/100\n",
            "6/6 [==============================] - 0s 14ms/step - loss: 6.5903e-04\n",
            "Epoch 65/100\n",
            "6/6 [==============================] - 0s 15ms/step - loss: 5.9176e-04\n",
            "Epoch 66/100\n",
            "6/6 [==============================] - 0s 14ms/step - loss: 6.1415e-04\n",
            "Epoch 67/100\n",
            "6/6 [==============================] - 0s 13ms/step - loss: 5.3581e-04\n",
            "Epoch 68/100\n",
            "6/6 [==============================] - 0s 15ms/step - loss: 4.9661e-04\n",
            "Epoch 69/100\n",
            "6/6 [==============================] - 0s 14ms/step - loss: 4.7918e-04\n",
            "Epoch 70/100\n",
            "6/6 [==============================] - 0s 16ms/step - loss: 5.7593e-04\n",
            "Epoch 71/100\n",
            "6/6 [==============================] - 0s 14ms/step - loss: 4.8160e-04\n",
            "Epoch 72/100\n",
            "6/6 [==============================] - 0s 12ms/step - loss: 4.8984e-04\n",
            "Epoch 73/100\n",
            "6/6 [==============================] - 0s 14ms/step - loss: 4.0703e-04\n",
            "Epoch 74/100\n",
            "6/6 [==============================] - 0s 12ms/step - loss: 4.4680e-04\n",
            "Epoch 75/100\n",
            "6/6 [==============================] - 0s 13ms/step - loss: 4.1674e-04\n",
            "Epoch 76/100\n",
            "6/6 [==============================] - 0s 15ms/step - loss: 4.0761e-04\n",
            "Epoch 77/100\n",
            "6/6 [==============================] - 0s 14ms/step - loss: 3.0792e-04\n",
            "Epoch 78/100\n",
            "6/6 [==============================] - 0s 14ms/step - loss: 3.9764e-04\n",
            "Epoch 79/100\n",
            "6/6 [==============================] - 0s 17ms/step - loss: 3.4371e-04\n",
            "Epoch 80/100\n",
            "6/6 [==============================] - 0s 15ms/step - loss: 3.8884e-04\n",
            "Epoch 81/100\n",
            "6/6 [==============================] - 0s 14ms/step - loss: 3.8553e-04\n",
            "Epoch 82/100\n",
            "6/6 [==============================] - 0s 15ms/step - loss: 3.1759e-04\n",
            "Epoch 83/100\n",
            "6/6 [==============================] - 0s 18ms/step - loss: 3.4172e-04\n",
            "Epoch 84/100\n",
            "6/6 [==============================] - 0s 14ms/step - loss: 3.5070e-04\n",
            "Epoch 85/100\n",
            "6/6 [==============================] - 0s 14ms/step - loss: 3.1916e-04\n",
            "Epoch 86/100\n",
            "6/6 [==============================] - 0s 16ms/step - loss: 2.9794e-04\n",
            "Epoch 87/100\n",
            "6/6 [==============================] - 0s 16ms/step - loss: 2.9939e-04\n",
            "Epoch 88/100\n",
            "6/6 [==============================] - 0s 14ms/step - loss: 3.1972e-04\n",
            "Epoch 89/100\n",
            "6/6 [==============================] - 0s 14ms/step - loss: 2.4494e-04\n",
            "Epoch 90/100\n",
            "6/6 [==============================] - 0s 15ms/step - loss: 2.5087e-04\n",
            "Epoch 91/100\n",
            "6/6 [==============================] - 0s 14ms/step - loss: 2.8938e-04\n",
            "Epoch 92/100\n",
            "6/6 [==============================] - 0s 15ms/step - loss: 2.2668e-04\n",
            "Epoch 93/100\n",
            "6/6 [==============================] - 0s 14ms/step - loss: 3.1172e-04\n",
            "Epoch 94/100\n",
            "6/6 [==============================] - 0s 14ms/step - loss: 2.6428e-04\n",
            "Epoch 95/100\n",
            "6/6 [==============================] - 0s 15ms/step - loss: 2.7541e-04\n",
            "Epoch 96/100\n",
            "6/6 [==============================] - 0s 16ms/step - loss: 2.4519e-04\n",
            "Epoch 97/100\n",
            "6/6 [==============================] - 0s 13ms/step - loss: 2.0787e-04\n",
            "Epoch 98/100\n",
            "6/6 [==============================] - 0s 17ms/step - loss: 2.3348e-04\n",
            "Epoch 99/100\n",
            "6/6 [==============================] - 0s 15ms/step - loss: 2.3177e-04\n",
            "Epoch 100/100\n",
            "6/6 [==============================] - 0s 12ms/step - loss: 2.1436e-04\n"
          ],
          "name": "stdout"
        },
        {
          "output_type": "execute_result",
          "data": {
            "text/plain": [
              "<tensorflow.python.keras.callbacks.History at 0x7fa2455e6790>"
            ]
          },
          "metadata": {
            "tags": []
          },
          "execution_count": 150
        }
      ]
    },
    {
      "cell_type": "markdown",
      "metadata": {
        "id": "FTV21PBx0i5T"
      },
      "source": [
        "Once our model is fitted, we can use it to predict sequences of notes. These sequences are then used by the function below in order to generate some jazz improvisation. The function below equally applies a number of post-processing steps, which are beyond the scope of this practical session.\n"
      ]
    },
    {
      "cell_type": "code",
      "metadata": {
        "colab": {
          "base_uri": "https://localhost:8080/"
        },
        "id": "R4UELxk10i5T",
        "outputId": "03575f32-26cd-4b28-d734-9d5c84e4141c"
      },
      "source": [
        "out_stream = generate_music(model, chords, abstract_grammars,\n",
        "                            corpus, tones, tones_indices,\n",
        "                            indices_tones, X)"
      ],
      "execution_count": 151,
      "outputs": [
        {
          "output_type": "stream",
          "text": [
            "Predicting new values for different set of chords.\n",
            "Generated 51 sounds (chord 1)\n",
            "Generated 51 sounds (chord 2)\n",
            "Generated 51 sounds (chord 3)\n",
            "Generated 51 sounds (chord 4)\n",
            "Generated 51 sounds (chord 5)\n",
            "Your generated music is saved in output/my_music.midi\n"
          ],
          "name": "stdout"
        }
      ]
    },
    {
      "cell_type": "markdown",
      "metadata": {
        "id": "s1SFcwcm0i5T"
      },
      "source": [
        "The code above generates a midi file in the directory $output$, based on the predictions of the network. The code below should display a widget to listen to the generated music."
      ]
    },
    {
      "cell_type": "code",
      "metadata": {
        "colab": {
          "base_uri": "https://localhost:8080/",
          "height": 17
        },
        "id": "NmCGp7DE0i5U",
        "outputId": "8660b629-11c2-4abe-fa8f-f5931b85f2d2"
      },
      "source": [
        "mf = midi.MidiFile()\n",
        "mf.open('output/my_music.midi')\n",
        "mf.read()\n",
        "mf.close()\n",
        "s = midi.translate.midiFileToStream(mf)\n",
        "s.show('midi')"
      ],
      "execution_count": 146,
      "outputs": [
        {
          "output_type": "display_data",
          "data": {
            "text/html": [
              "\n",
              "                <div id='midiPlayerDiv520808'></div>\n",
              "                <link rel=\"stylesheet\" href=\"//cuthbertLab.github.io/music21j/css/m21.css\"\n",
              "                    type=\"text/css\" />\n",
              "                <script>\n",
              "                require.config({\n",
              "                    paths: {'music21': '//cuthbertLab.github.io/music21j/src/music21'}\n",
              "                });\n",
              "                require(['music21'], function() {\n",
              "                               mp = new music21.miditools.MidiPlayer();\n",
              "                               mp.addPlayer('#midiPlayerDiv520808');\n",
              "                               mp.base64Load('data:audio/midi;base64,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');\n",
              "                        });\n",
              "                </script>"
            ],
            "text/plain": [
              "<IPython.core.display.HTML object>"
            ]
          },
          "metadata": {
            "tags": []
          }
        }
      ]
    },
    {
      "cell_type": "code",
      "metadata": {
        "colab": {
          "base_uri": "https://localhost:8080/",
          "height": 17
        },
        "id": "0iNutXTS8bC9",
        "outputId": "445b6c0a-c174-48f6-dc62-66942f2918bc"
      },
      "source": [
        "s.show('midi')"
      ],
      "execution_count": 55,
      "outputs": [
        {
          "output_type": "display_data",
          "data": {
            "text/html": [
              "\n",
              "                <div id='midiPlayerDiv184013'></div>\n",
              "                <link rel=\"stylesheet\" href=\"//cuthbertLab.github.io/music21j/css/m21.css\"\n",
              "                    type=\"text/css\" />\n",
              "                <script>\n",
              "                require.config({\n",
              "                    paths: {'music21': '//cuthbertLab.github.io/music21j/src/music21'}\n",
              "                });\n",
              "                require(['music21'], function() {\n",
              "                               mp = new music21.miditools.MidiPlayer();\n",
              "                               mp.addPlayer('#midiPlayerDiv184013');\n",
              "                               mp.base64Load('data:audio/midi;base64,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');\n",
              "                        });\n",
              "                </script>"
            ],
            "text/plain": [
              "<IPython.core.display.HTML object>"
            ]
          },
          "metadata": {
            "tags": []
          }
        }
      ]
    },
    {
      "cell_type": "markdown",
      "metadata": {
        "id": "Zxyh8Byr0i5U"
      },
      "source": [
        "Alternatively, you can use a midi player available on your computer to play the file, or if you don't have a midi player, you can use an online conversion tool that converts midi to mp3. Does the result sound convincing?\n",
        "\n",
        "**Le resultat est moins convaincain**"
      ]
    },
    {
      "cell_type": "markdown",
      "metadata": {
        "id": "VT7I5_AN0i5U"
      },
      "source": [
        "### Exercise\n",
        "\n",
        "Try to improve the neural network's performance. Try a GRU instead of an LSTM. Try to change the hidden representation size. Experiment with an extra recurrent layer. How does this change the loss? Is the resulting music better?"
      ]
    },
    {
      "cell_type": "markdown",
      "metadata": {
        "id": "z5u75-pzKR1l"
      },
      "source": [
        "**Le resultat n'est pas terrible , ce pendant on a faible valeur de la losse avec la presente configuration.**"
      ]
    },
    {
      "cell_type": "markdown",
      "metadata": {
        "id": "o-rYkC_fKt7S"
      },
      "source": [
        ""
      ]
    },
    {
      "cell_type": "markdown",
      "metadata": {
        "id": "4bwbGIoWKt9K"
      },
      "source": [
        ""
      ]
    }
  ]
}